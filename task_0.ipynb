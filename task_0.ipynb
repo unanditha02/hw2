{
 "cells": [
  {
   "cell_type": "markdown",
   "id": "overhead-clinic",
   "metadata": {},
   "source": [
    "# Part 0: Dataloader and Visualizations"
   ]
  },
  {
   "cell_type": "code",
   "execution_count": 1,
   "id": "moved-crisis",
   "metadata": {},
   "outputs": [],
   "source": [
    "import torch\n",
    "import wandb\n",
    "import scipy.io\n",
    "\n",
    "import numpy as np\n",
    "\n",
    "import torch.nn as nn\n",
    "import torch.nn.functional as F\n",
    "import torchvision.models as models\n",
    "from torchvision import transforms, datasets\n",
    "from torch.utils.data import DataLoader\n",
    "\n",
    "from voc_dataset import VOCDataset\n",
    "\n",
    "from PIL import Image\n",
    "\n",
    "from utils import *\n",
    "\n",
    "USE_WANDB = True"
   ]
  },
  {
   "cell_type": "markdown",
   "id": "angry-prague",
   "metadata": {},
   "source": [
    "## Editing the Dataloader\n",
    "The first part of the assignment involves editing the dataloader so that we can access bounding-box proposals as well as the ground-truth bounding boxes. The ground truth bounding box can be accessed through the VOC Dataset annotations itself. Unsupervised bounding box proposals are obtained through methods such as [Selective Search](https://ivi.fnwi.uva.nl/isis/publications/2013/UijlingsIJCV2013/UijlingsIJCV2013.pdf).\n",
    "\n",
    "Since Selective Search is slow to run on each image, we have pre-computed the bounding box proposals. You should be able to access the `.mat` files using `scipy.io.loadmat('file.mat')`. Feel free to experiment with the data in the files to figure out the number of proposals per image, their scores, etc.\n",
    "\n",
    "Your task is to change the dataloader to obtain the ground-truth bounding boxes, as well as the proposed bounding boxes for each image. Returning a dictionary would be convenient here. For the bounding boxes, using the relative positions is usually a better idea since they are invariant to changes in the size of the image."
   ]
  },
  {
   "cell_type": "code",
   "execution_count": 2,
   "id": "thousand-messaging",
   "metadata": {},
   "outputs": [],
   "source": [
    "# Load the Dataset - items at a particular index can be accesed by usual indexing notation (dataset[idx])\n",
    "dataset = VOCDataset('trainval', top_n=10)"
   ]
  },
  {
   "cell_type": "code",
   "execution_count": 3,
   "id": "964cd8b6",
   "metadata": {},
   "outputs": [
    {
     "name": "stdout",
     "output_type": "stream",
     "text": [
      "dict_keys(['__header__', '__version__', '__globals__', 'boxScores', 'boxes', 'images'])\n",
      "Box scores:  1270 <class 'numpy.ndarray'> (1270, 1)\n",
      "[[  1 187 220 479]\n",
      " [191 187 293 381]\n",
      " [  1  86 216 481]\n",
      " [191 186 256 381]]\n",
      "[  1 187 220 479]\n",
      "(4, 4)\n",
      "(4, 4)\n",
      "[[  1 187 220 479]\n",
      " [191 187 293 381]\n",
      " [  1  86 216 481]\n",
      " [191 186 256 381]]\n",
      "[[0.00285714 0.374      0.62857143 0.958     ]\n",
      " [0.54571429 0.374      0.83714286 0.762     ]\n",
      " [0.00285714 0.172      0.61714286 0.962     ]\n",
      " [0.54571429 0.372      0.73142857 0.762     ]]\n",
      "[[0.00285714 0.374      0.62857143 0.958     ]\n",
      " [0.54571429 0.374      0.83714286 0.762     ]\n",
      " [0.00285714 0.172      0.61714286 0.962     ]\n",
      " [0.54571429 0.372      0.73142857 0.762     ]]\n"
     ]
    }
   ],
   "source": [
    "split = 'trainval'\n",
    "selective_search_dir = os.path.join(\"../data/VOCdevkit/VOC2007/\", 'selective_search_data')\n",
    "roi_data = scipy.io.loadmat(selective_search_dir + '/voc_2007_'+ split + '.mat')\n",
    "print(roi_data.keys())\n",
    "# print(roi_data.values())\n",
    "# print(roi_data['boxScores'].shape)\n",
    "# print(roi_data['boxes'].shape)\n",
    "# print(roi_data['images'].shape)\n",
    "# print(roi_data['images'][:,0].shape)\n",
    "\n",
    "img = 2020\n",
    "# print(roi_data['images'][:,img])\n",
    "# print(roi_data['images'][:,1])\n",
    "# print(roi_data['boxes'][:,img][0].shape)\n",
    "# print(roi_data['boxes'][:,img][0])\n",
    "# print(roi_data['boxScores'][0,img].shape)\n",
    "# print(roi_data['boxScores'][:,img][0])\n",
    "box_scores = roi_data['boxScores'][0,img]\n",
    "boxes = roi_data['boxes'][:,img][0]\n",
    "print(\"Box scores: \", len(box_scores), type(box_scores), box_scores.shape)\n",
    "# print(box_scores)\n",
    "\n",
    "ind = np.argpartition(box_scores, -4, axis=0)[-4:]\n",
    "# print(ind)\n",
    "# print(box_scores[ind])\n",
    "\n",
    "# print(boxes[ind])\n",
    "# print(boxes[ind[0]])\n",
    "top_n = 4\n",
    "print(boxes[:top_n])\n",
    "print(boxes[:top_n][0])\n",
    "print(boxes[:top_n].shape)\n",
    "height = 350\n",
    "width = 500\n",
    "\n",
    "box = boxes[:top_n]\n",
    "\n",
    "print(box.shape)\n",
    "# box = boxes[ind][:,0,:]\n",
    "y1 = box[:,0]\n",
    "y2 = box[:,2]\n",
    "x1 = box[:,1]\n",
    "x2 = box[:,3]\n",
    "proposals = np.empty((4,1))\n",
    "proposals = np.concatenate((proposals, np.divide(y1,height).reshape(4,1)), axis=1)\n",
    "proposals = np.concatenate((proposals, np.divide(x1,width).reshape(4,1)), axis=1)\n",
    "proposals = np.concatenate((proposals, np.divide(y2,height).reshape(4,1)), axis=1)\n",
    "proposals = np.concatenate((proposals, np.divide(x2,width).reshape(4,1)), axis=1)\n",
    "proposals = proposals[:, 1:]\n",
    "print(box)\n",
    "print(proposals)\n",
    "# print(type(box[0]))\n",
    "# print(box.shape)\n",
    "# yy = box[:,1]/500\n",
    "# box[:,1] = yy\n",
    "# # print(box.shape)\n",
    "# print(box)\n",
    "\n",
    "proposal = []\n",
    "for i in range(len(box)):\n",
    "    xmin = int(box[i,0]) / height\n",
    "    ymin = int(box[i,1])  / width\n",
    "    xmax = int(box[i,2])  / height\n",
    "    ymax = int(box[i,3])  / width\n",
    "    proposal.append([xmin, ymin, xmax, ymax])\n",
    "\n",
    "print(np.array(proposal))"
   ]
  },
  {
   "cell_type": "code",
   "execution_count": 4,
   "id": "cf31923e",
   "metadata": {},
   "outputs": [
    {
     "name": "stdout",
     "output_type": "stream",
     "text": [
      "<PIL.JpegImagePlugin.JpegImageFile image mode=RGB size=500x373 at 0x7FA9FEBC5F10>\n",
      "[191 187 293 381]\n",
      "(187, 191) 102 194\n"
     ]
    },
    {
     "data": {
      "image/png": "[encoded data removed]",
      "text/plain": [
       "<Figure size 432x288 with 1 Axes>"
      ]
     },
     "metadata": {
      "needs_background": "light"
     },
     "output_type": "display_data"
    }
   ],
   "source": [
    "img_path = os.path.join(\"../data/VOCdevkit/VOC2007/JPEGImages/004005.jpg\")\n",
    "image = Image.open(img_path)\n",
    "import matplotlib.pyplot as plt\n",
    "import matplotlib.patches as patches\n",
    "fig, ax = plt.subplots()\n",
    "print(image)\n",
    "# Display the image\n",
    "ax.imshow(image)\n",
    "box = boxes[ind[2]][0]\n",
    "print(box)\n",
    "xy = (box[1], box[0])\n",
    "h = box[2]-box[0]\n",
    "w = box[3] - box[1]\n",
    "print(xy, h, w)\n",
    "# Create a Rectangle patch\n",
    "rect = patches.Rectangle(xy, w, h,  linewidth=1, edgecolor='r', facecolor='none')\n",
    "\n",
    "# Add the patch to the Axes\n",
    "ax.add_patch(rect)\n",
    "\n",
    "\n",
    "plt.imshow(image)\n",
    "plt.show()"
   ]
  },
  {
   "cell_type": "code",
   "execution_count": 5,
   "id": "confused-witness",
   "metadata": {},
   "outputs": [],
   "source": [
    "#TODO: get the image information from index 2020\n",
    "idx = 2020\n",
    "\n",
    "input = dataset[idx]\n",
    "\n",
    "# print(input.)"
   ]
  },
  {
   "cell_type": "markdown",
   "id": "rational-recycling",
   "metadata": {},
   "source": [
    "## Wandb Init and Logging\n",
    "Initialize a Weights and Biases project, and convert the image tensor to a PIL image and plot it (check `utils.py` for helper functions).\n",
    "\n",
    "You can use [this](https://docs.wandb.ai/library/log) as a reference for logging syntax."
   ]
  },
  {
   "cell_type": "code",
   "execution_count": 6,
   "id": "conventional-flexibility",
   "metadata": {},
   "outputs": [
    {
     "name": "stderr",
     "output_type": "stream",
     "text": [
      "\u001b[34m\u001b[1mwandb\u001b[0m: Currently logged in as: \u001b[33munanditha02\u001b[0m (use `wandb login --relogin` to force relogin)\n"
     ]
    },
    {
     "data": {
      "text/html": [
       "Tracking run with wandb version 0.12.11"
      ],
      "text/plain": [
       "<IPython.core.display.HTML object>"
      ]
     },
     "metadata": {},
     "output_type": "display_data"
    },
    {
     "data": {
      "text/html": [
       "Run data is saved locally in <code>/home/unanditha02/Coursework/16824-VLR/vlr-hw/hw2/wandb/run-20220320_015636-31zg1a5o</code>"
      ],
      "text/plain": [
       "<IPython.core.display.HTML object>"
      ]
     },
     "metadata": {},
     "output_type": "display_data"
    },
    {
     "data": {
      "text/html": [
       "Syncing run <strong><a href=\"https://wandb.ai/unanditha02/vlr2/runs/31zg1a5o\" target=\"_blank\">fanciful-fire-5</a></strong> to <a href=\"https://wandb.ai/unanditha02/vlr2\" target=\"_blank\">Weights & Biases</a> (<a href=\"https://wandb.me/run\" target=\"_blank\">docs</a>)<br/>"
      ],
      "text/plain": [
       "<IPython.core.display.HTML object>"
      ]
     },
     "metadata": {},
     "output_type": "display_data"
    }
   ],
   "source": [
    "if USE_WANDB:\n",
    "    wandb.init(project=\"vlr2\", reinit=True)"
   ]
  },
  {
   "cell_type": "markdown",
   "id": "demanding-ladder",
   "metadata": {},
   "source": [
    "See this block as an example of plotting the ground truth box for an image."
   ]
  },
  {
   "cell_type": "code",
   "execution_count": 7,
   "id": "resistant-concert",
   "metadata": {},
   "outputs": [
    {
     "ename": "KeyError",
     "evalue": "'gt_classes'",
     "output_type": "error",
     "traceback": [
      "\u001b[0;31m---------------------------------------------------------------------------\u001b[0m",
      "\u001b[0;31mKeyError\u001b[0m                                  Traceback (most recent call last)",
      "\u001b[0;32m/tmp/ipykernel_46142/92018769.py\u001b[0m in \u001b[0;36m<module>\u001b[0;34m\u001b[0m\n\u001b[1;32m      2\u001b[0m \u001b[0;34m\u001b[0m\u001b[0m\n\u001b[1;32m      3\u001b[0m \u001b[0moriginal_image\u001b[0m \u001b[0;34m=\u001b[0m \u001b[0mtensor_to_PIL\u001b[0m\u001b[0;34m(\u001b[0m\u001b[0minput\u001b[0m\u001b[0;34m[\u001b[0m\u001b[0;34m'image'\u001b[0m\u001b[0;34m]\u001b[0m\u001b[0;34m)\u001b[0m\u001b[0;34m\u001b[0m\u001b[0;34m\u001b[0m\u001b[0m\n\u001b[0;32m----> 4\u001b[0;31m \u001b[0mgt_labels\u001b[0m \u001b[0;34m=\u001b[0m \u001b[0minput\u001b[0m\u001b[0;34m[\u001b[0m\u001b[0;34m'gt_classes'\u001b[0m\u001b[0;34m]\u001b[0m\u001b[0;34m\u001b[0m\u001b[0;34m\u001b[0m\u001b[0m\n\u001b[0m\u001b[1;32m      5\u001b[0m \u001b[0mgt_boxes\u001b[0m \u001b[0;34m=\u001b[0m \u001b[0minput\u001b[0m\u001b[0;34m[\u001b[0m\u001b[0;34m'gt_boxes'\u001b[0m\u001b[0;34m]\u001b[0m\u001b[0;34m\u001b[0m\u001b[0;34m\u001b[0m\u001b[0m\n\u001b[1;32m      6\u001b[0m \u001b[0mprint\u001b[0m\u001b[0;34m(\u001b[0m\u001b[0mgt_labels\u001b[0m\u001b[0;34m,\u001b[0m\u001b[0mgt_boxes\u001b[0m\u001b[0;34m)\u001b[0m\u001b[0;34m\u001b[0m\u001b[0;34m\u001b[0m\u001b[0m\n",
      "\u001b[0;31mKeyError\u001b[0m: 'gt_classes'"
     ]
    }
   ],
   "source": [
    "class_id_to_label = dict(enumerate(dataset.CLASS_NAMES))\n",
    "\n",
    "original_image = tensor_to_PIL(input['image'])\n",
    "gt_labels = input['gt_classes']\n",
    "gt_boxes = input['gt_boxes']\n",
    "print(gt_labels,gt_boxes)\n",
    "\n",
    "img = wandb.Image(original_image, boxes={\n",
    "    \"predictions\": {\n",
    "        \"box_data\": get_box_data(gt_labels, gt_boxes),\n",
    "        \"class_labels\": class_id_to_label,\n",
    "    },\n",
    "})\n",
    "wandb.log({\"image\": img})"
   ]
  },
  {
   "cell_type": "markdown",
   "id": "matched-thread",
   "metadata": {},
   "source": [
    "Check the `get_box_data` function in `utils.py` and understand how it is being used. Log the image with the GT bounding box on wandb.\n",
    "After, this you should be able to easily plot the top 10 bounding proposals as well."
   ]
  },
  {
   "cell_type": "code",
   "execution_count": 8,
   "id": "floating-repository",
   "metadata": {},
   "outputs": [
    {
     "name": "stdout",
     "output_type": "stream",
     "text": [
      "[[0.00268097 0.374      0.58981233 0.958     ]\n",
      " [0.51206434 0.374      0.78552279 0.762     ]\n",
      " [0.00268097 0.172      0.57908847 0.962     ]\n",
      " [0.51206434 0.372      0.68632708 0.762     ]\n",
      " [0.00268097 0.514      0.51474531 0.958     ]\n",
      " [0.47453083 0.372      0.89008043 0.726     ]\n",
      " [0.31099196 0.254      0.58176944 0.726     ]\n",
      " [0.48525469 0.378      0.86058981 0.8       ]\n",
      " [0.00268097 0.862      0.46380697 1.        ]\n",
      " [0.49865952 0.286      0.82841823 0.764     ]] tensor([0., 0., 0., 0., 0., 0., 0., 0., 0., 0., 0., 0., 0., 0., 0., 0., 0., 0.,\n",
      "        1., 0.])\n"
     ]
    },
    {
     "ename": "IndexError",
     "evalue": "index 10 is out of bounds for axis 0 with size 10",
     "output_type": "error",
     "traceback": [
      "\u001b[0;31m---------------------------------------------------------------------------\u001b[0m",
      "\u001b[0;31mIndexError\u001b[0m                                Traceback (most recent call last)",
      "\u001b[0;32m/tmp/ipykernel_46142/3872374490.py\u001b[0m in \u001b[0;36m<module>\u001b[0;34m\u001b[0m\n\u001b[1;32m      9\u001b[0m img = wandb.Image(original_image, boxes={\n\u001b[1;32m     10\u001b[0m     \"predictions\": {\n\u001b[0;32m---> 11\u001b[0;31m         \u001b[0;34m\"box_data\"\u001b[0m\u001b[0;34m:\u001b[0m \u001b[0mget_box_data\u001b[0m\u001b[0;34m(\u001b[0m\u001b[0mnums\u001b[0m\u001b[0;34m,\u001b[0m \u001b[0mrois\u001b[0m\u001b[0;34m)\u001b[0m\u001b[0;34m,\u001b[0m\u001b[0;34m\u001b[0m\u001b[0;34m\u001b[0m\u001b[0m\n\u001b[0m\u001b[1;32m     12\u001b[0m         \u001b[0;34m\"class_labels\"\u001b[0m\u001b[0;34m:\u001b[0m \u001b[0mclass_id_to_label\u001b[0m\u001b[0;34m,\u001b[0m\u001b[0;34m\u001b[0m\u001b[0;34m\u001b[0m\u001b[0m\n\u001b[1;32m     13\u001b[0m     },\n",
      "\u001b[0;32m~/Coursework/16824-VLR/vlr-hw/hw2/utils.py\u001b[0m in \u001b[0;36mget_box_data\u001b[0;34m(classes, bbox_coordinates)\u001b[0m\n\u001b[1;32m     61\u001b[0m     \u001b[0;32mreturn\u001b[0m \u001b[0mlist\u001b[0m \u001b[0mof\u001b[0m \u001b[0mboxes\u001b[0m \u001b[0;32mas\u001b[0m \u001b[0mexpected\u001b[0m \u001b[0mby\u001b[0m \u001b[0mthe\u001b[0m \u001b[0mwandb\u001b[0m \u001b[0mbbox\u001b[0m \u001b[0mplotter\u001b[0m\u001b[0;34m\u001b[0m\u001b[0;34m\u001b[0m\u001b[0m\n\u001b[1;32m     62\u001b[0m     \"\"\"\n\u001b[0;32m---> 63\u001b[0;31m     box_list = [{\n\u001b[0m\u001b[1;32m     64\u001b[0m             \"position\": {\n\u001b[1;32m     65\u001b[0m                 \u001b[0;34m\"minX\"\u001b[0m\u001b[0;34m:\u001b[0m \u001b[0mbbox_coordinates\u001b[0m\u001b[0;34m[\u001b[0m\u001b[0mi\u001b[0m\u001b[0;34m]\u001b[0m\u001b[0;34m[\u001b[0m\u001b[0;36m0\u001b[0m\u001b[0;34m]\u001b[0m\u001b[0;34m,\u001b[0m\u001b[0;34m\u001b[0m\u001b[0;34m\u001b[0m\u001b[0m\n",
      "\u001b[0;32m~/Coursework/16824-VLR/vlr-hw/hw2/utils.py\u001b[0m in \u001b[0;36m<listcomp>\u001b[0;34m(.0)\u001b[0m\n\u001b[1;32m     63\u001b[0m     box_list = [{\n\u001b[1;32m     64\u001b[0m             \"position\": {\n\u001b[0;32m---> 65\u001b[0;31m                 \u001b[0;34m\"minX\"\u001b[0m\u001b[0;34m:\u001b[0m \u001b[0mbbox_coordinates\u001b[0m\u001b[0;34m[\u001b[0m\u001b[0mi\u001b[0m\u001b[0;34m]\u001b[0m\u001b[0;34m[\u001b[0m\u001b[0;36m0\u001b[0m\u001b[0;34m]\u001b[0m\u001b[0;34m,\u001b[0m\u001b[0;34m\u001b[0m\u001b[0;34m\u001b[0m\u001b[0m\n\u001b[0m\u001b[1;32m     66\u001b[0m                 \u001b[0;34m\"minY\"\u001b[0m\u001b[0;34m:\u001b[0m \u001b[0mbbox_coordinates\u001b[0m\u001b[0;34m[\u001b[0m\u001b[0mi\u001b[0m\u001b[0;34m]\u001b[0m\u001b[0;34m[\u001b[0m\u001b[0;36m1\u001b[0m\u001b[0;34m]\u001b[0m\u001b[0;34m,\u001b[0m\u001b[0;34m\u001b[0m\u001b[0;34m\u001b[0m\u001b[0m\n\u001b[1;32m     67\u001b[0m                 \u001b[0;34m\"maxX\"\u001b[0m\u001b[0;34m:\u001b[0m \u001b[0mbbox_coordinates\u001b[0m\u001b[0;34m[\u001b[0m\u001b[0mi\u001b[0m\u001b[0;34m]\u001b[0m\u001b[0;34m[\u001b[0m\u001b[0;36m2\u001b[0m\u001b[0;34m]\u001b[0m\u001b[0;34m,\u001b[0m\u001b[0;34m\u001b[0m\u001b[0;34m\u001b[0m\u001b[0m\n",
      "\u001b[0;31mIndexError\u001b[0m: index 10 is out of bounds for axis 0 with size 10"
     ]
    }
   ],
   "source": [
    "rois = input['rois']\n",
    "# nums = range(len(rois)) # placeholder for names of proposals\n",
    "nums = input['label']\n",
    "print(rois,nums)\n",
    "\n",
    "original_image = tensor_to_PIL(input['image'])\n",
    "\n",
    "#TODO: plot top ten proposals (of bounding boxes)\n",
    "img = wandb.Image(original_image, boxes={\n",
    "    \"predictions\": {\n",
    "        \"box_data\": get_box_data(nums, rois),\n",
    "        \"class_labels\": class_id_to_label,\n",
    "    },\n",
    "})\n",
    "wandb.log({\"image proposals\": img})"
   ]
  },
  {
   "cell_type": "code",
   "execution_count": 6,
   "id": "1e91937c",
   "metadata": {},
   "outputs": [
    {
     "name": "stdout",
     "output_type": "stream",
     "text": [
      "dict_keys(['image', 'label', 'wgt', 'rois'])\n",
      "torch.Size([20]) tensor([0., 0., 0., 0., 0., 0., 0., 0., 0., 0., 0., 0., 0., 0., 0., 0., 0., 0.,\n",
      "        1., 0.])\n",
      "torch.Size([20]) tensor([1., 1., 1., 1., 1., 1., 1., 1., 1., 1., 1., 1., 1., 1., 1., 1., 1., 1.,\n",
      "        1., 1.])\n",
      "(10, 4) [[0.00268097 0.374      0.58981233 0.958     ]\n",
      " [0.51206434 0.374      0.78552279 0.762     ]\n",
      " [0.00268097 0.172      0.57908847 0.962     ]\n",
      " [0.51206434 0.372      0.68632708 0.762     ]\n",
      " [0.00268097 0.514      0.51474531 0.958     ]\n",
      " [0.47453083 0.372      0.89008043 0.726     ]\n",
      " [0.31099196 0.254      0.58176944 0.726     ]\n",
      " [0.48525469 0.378      0.86058981 0.8       ]\n",
      " [0.00268097 0.862      0.46380697 1.        ]\n",
      " [0.49865952 0.286      0.82841823 0.764     ]]\n"
     ]
    },
    {
     "ename": "KeyError",
     "evalue": "'gt_boxes'",
     "output_type": "error",
     "traceback": [
      "\u001b[0;31m---------------------------------------------------------------------------\u001b[0m",
      "\u001b[0;31mKeyError\u001b[0m                                  Traceback (most recent call last)",
      "\u001b[0;32m/tmp/ipykernel_46332/4175944636.py\u001b[0m in \u001b[0;36m<module>\u001b[0;34m\u001b[0m\n\u001b[1;32m     27\u001b[0m \u001b[0mprint\u001b[0m\u001b[0;34m(\u001b[0m\u001b[0mimage\u001b[0m\u001b[0;34m[\u001b[0m\u001b[0;34m\"wgt\"\u001b[0m\u001b[0;34m]\u001b[0m\u001b[0;34m.\u001b[0m\u001b[0mshape\u001b[0m\u001b[0;34m,\u001b[0m \u001b[0mimage\u001b[0m\u001b[0;34m[\u001b[0m\u001b[0;34m\"wgt\"\u001b[0m\u001b[0;34m]\u001b[0m\u001b[0;34m)\u001b[0m\u001b[0;34m\u001b[0m\u001b[0;34m\u001b[0m\u001b[0m\n\u001b[1;32m     28\u001b[0m \u001b[0mprint\u001b[0m\u001b[0;34m(\u001b[0m\u001b[0mimage\u001b[0m\u001b[0;34m[\u001b[0m\u001b[0;34m\"rois\"\u001b[0m\u001b[0;34m]\u001b[0m\u001b[0;34m.\u001b[0m\u001b[0mshape\u001b[0m\u001b[0;34m,\u001b[0m \u001b[0mimage\u001b[0m\u001b[0;34m[\u001b[0m\u001b[0;34m\"rois\"\u001b[0m\u001b[0;34m]\u001b[0m\u001b[0;34m)\u001b[0m\u001b[0;34m\u001b[0m\u001b[0;34m\u001b[0m\u001b[0m\n\u001b[0;32m---> 29\u001b[0;31m \u001b[0mprint\u001b[0m\u001b[0;34m(\u001b[0m\u001b[0mlen\u001b[0m\u001b[0;34m(\u001b[0m\u001b[0mimage\u001b[0m\u001b[0;34m[\u001b[0m\u001b[0;34m\"gt_boxes\"\u001b[0m\u001b[0;34m]\u001b[0m\u001b[0;34m)\u001b[0m\u001b[0;34m,\u001b[0m \u001b[0mimage\u001b[0m\u001b[0;34m[\u001b[0m\u001b[0;34m\"gt_boxes\"\u001b[0m\u001b[0;34m]\u001b[0m\u001b[0;34m)\u001b[0m\u001b[0;34m\u001b[0m\u001b[0;34m\u001b[0m\u001b[0m\n\u001b[0m\u001b[1;32m     30\u001b[0m \u001b[0mprint\u001b[0m\u001b[0;34m(\u001b[0m\u001b[0mlen\u001b[0m\u001b[0;34m(\u001b[0m\u001b[0mimage\u001b[0m\u001b[0;34m[\u001b[0m\u001b[0;34m\"gt_classes\"\u001b[0m\u001b[0;34m]\u001b[0m\u001b[0;34m)\u001b[0m\u001b[0;34m,\u001b[0m \u001b[0mimage\u001b[0m\u001b[0;34m[\u001b[0m\u001b[0;34m\"gt_classes\"\u001b[0m\u001b[0;34m]\u001b[0m\u001b[0;34m)\u001b[0m\u001b[0;34m\u001b[0m\u001b[0;34m\u001b[0m\u001b[0m\n\u001b[1;32m     31\u001b[0m \u001b[0;34m\u001b[0m\u001b[0m\n",
      "\u001b[0;31mKeyError\u001b[0m: 'gt_boxes'"
     ]
    }
   ],
   "source": [
    "# roi_data = scipy.io.loadmat(selective_search_dir + '/voc_2007_'+ split + '.mat')\n",
    "# data_dir='../data/VOCdevkit/VOC2007/'\n",
    "# img_dir = os.path.join(data_dir, 'JPEGImages')\n",
    "# index=2020\n",
    "# '004003'\n",
    "# findex = '004005'    # findex refers to the file number\n",
    "# fpath = os.path.join(img_dir, findex + '.jpg')\n",
    "\n",
    "# img = Image.open(fpath)\n",
    "# width, height = img.size\n",
    "\n",
    "# plt.imshow(img)\n",
    "# plt.show()\n",
    "\n",
    "# score = roi_data['boxScores'][0,index]\n",
    "# boxes = roi_data['boxes'][0,index]\n",
    "# images = roi_data['images'][0,index]\n",
    "# print(boxes.shape, score.shape)\n",
    "# print(roi_data.keys())\n",
    "# print(images)\n",
    "# print(roi_data.keys())\n",
    "idx= 2020\n",
    "image = dataset[idx]\n",
    "print(image.keys())\n",
    "\n",
    "print(image[\"label\"].shape, image[\"label\"])\n",
    "print(image[\"wgt\"].shape, image[\"wgt\"])\n",
    "print(image[\"rois\"].shape, image[\"rois\"])\n",
    "print(len(image[\"gt_boxes\"]), image[\"gt_boxes\"])\n",
    "print(len(image[\"gt_classes\"]), image[\"gt_classes\"])\n",
    "\n"
   ]
  },
  {
   "cell_type": "code",
   "execution_count": 9,
   "id": "ba956e7b",
   "metadata": {},
   "outputs": [
    {
     "name": "stdout",
     "output_type": "stream",
     "text": [
      "0\n",
      "1\n",
      "2\n",
      "3\n",
      "4\n",
      "5\n",
      "6\n",
      "7\n",
      "8\n",
      "9\n",
      "10\n",
      "11\n",
      "12\n",
      "13\n",
      "14\n",
      "15\n",
      "16\n",
      "17\n",
      "18\n",
      "19\n",
      "20\n",
      "21\n",
      "22\n",
      "23\n",
      "24\n",
      "25\n",
      "26\n",
      "27\n",
      "28\n",
      "29\n",
      "30\n",
      "31\n",
      "32\n",
      "33\n",
      "34\n",
      "35\n",
      "36\n",
      "37\n",
      "38\n",
      "39\n",
      "40\n",
      "41\n",
      "42\n",
      "43\n",
      "44\n",
      "45\n",
      "46\n",
      "47\n",
      "48\n",
      "49\n",
      "50\n",
      "51\n",
      "52\n",
      "53\n",
      "54\n",
      "55\n",
      "56\n",
      "57\n",
      "58\n",
      "59\n",
      "60\n",
      "61\n",
      "62\n",
      "63\n",
      "64\n",
      "65\n",
      "66\n",
      "67\n",
      "68\n",
      "69\n",
      "70\n",
      "71\n",
      "72\n",
      "73\n",
      "74\n",
      "75\n",
      "76\n",
      "77\n",
      "78\n",
      "79\n",
      "80\n",
      "81\n",
      "82\n",
      "83\n",
      "84\n",
      "85\n",
      "86\n",
      "87\n",
      "88\n",
      "89\n",
      "90\n",
      "91\n",
      "92\n",
      "93\n",
      "94\n",
      "95\n",
      "96\n",
      "97\n",
      "98\n",
      "99\n",
      "100\n",
      "101\n",
      "102\n",
      "103\n",
      "104\n",
      "105\n",
      "106\n",
      "107\n",
      "108\n",
      "109\n",
      "110\n",
      "111\n",
      "112\n",
      "113\n",
      "114\n",
      "115\n",
      "116\n",
      "117\n",
      "118\n",
      "119\n",
      "120\n",
      "121\n",
      "122\n",
      "123\n",
      "124\n",
      "125\n",
      "126\n",
      "127\n",
      "128\n",
      "129\n",
      "130\n",
      "131\n",
      "132\n",
      "133\n",
      "134\n",
      "135\n",
      "136\n",
      "137\n",
      "138\n",
      "139\n",
      "140\n",
      "141\n",
      "142\n",
      "143\n",
      "144\n",
      "145\n",
      "146\n",
      "147\n",
      "148\n",
      "149\n",
      "150\n",
      "151\n",
      "152\n",
      "153\n",
      "154\n",
      "155\n"
     ]
    }
   ],
   "source": [
    "inp_size = 32\n",
    "train_sampler = None\n",
    "workers = 4\n",
    "batch_size = 32\n",
    "train_dataset = VOCDataset('trainval', image_size=inp_size, top_n=10)\n",
    "\n",
    "train_loader = torch.utils.data.DataLoader(\n",
    "        train_dataset,\n",
    "        batch_size=batch_size,\n",
    "        # shuffle=(train_sampler is None),\n",
    "        shuffle=False,\n",
    "        num_workers=workers,\n",
    "        pin_memory=True,\n",
    "        sampler=train_sampler,\n",
    "        drop_last=True)\n",
    "\n",
    "for i, (data) in enumerate(train_loader):\n",
    "    img = data['image'].to('cuda')\n",
    "    target = data['label'].to('cuda')\n",
    "    wgt = data['wgt']\n",
    "\n",
    "    print(i)\n"
   ]
  },
  {
   "cell_type": "code",
   "execution_count": null,
   "id": "9f685d63",
   "metadata": {},
   "outputs": [],
   "source": []
  }
 ],
 "metadata": {
  "kernelspec": {
   "display_name": "Python 3",
   "language": "python",
   "name": "python3"
  },
  "language_info": {
   "codemirror_mode": {
    "name": "ipython",
    "version": 3
   },
   "file_extension": ".py",
   "mimetype": "text/x-python",
   "name": "python",
   "nbconvert_exporter": "python",
   "pygments_lexer": "ipython3",
   "version": "3.8.12"
  }
 },
 "nbformat": 4,
 "nbformat_minor": 5
}
